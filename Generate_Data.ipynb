{
 "cells": [
  {
   "cell_type": "code",
   "execution_count": 203,
   "id": "01cee1b2",
   "metadata": {},
   "outputs": [],
   "source": [
    "import numpy as np\n",
    "import matplotlib.pyplot as plt"
   ]
  },
  {
   "cell_type": "code",
   "execution_count": 204,
   "id": "921d76c6",
   "metadata": {},
   "outputs": [],
   "source": [
    "def compute_qm(V,I,R=2.92*10**(-2)):\n",
    "    \n",
    "    k = 7.5*10**(-4)\n",
    "    B = k*I\n",
    "    \n",
    "    return (2*V)/(B**2*R**2)"
   ]
  },
  {
   "cell_type": "code",
   "execution_count": 205,
   "id": "d5ab2503",
   "metadata": {},
   "outputs": [],
   "source": [
    "def rel_error(V_mu,V_std,I_mu,I_std,R,R_err):\n",
    "    \n",
    "    k = 7.5*10**(-4)\n",
    "    k_err = 0.5*10**(-4)\n",
    "    \n",
    "    return np.sqrt((V_std/V_mu)**2+(2*I_std/I_mu)**2+(2*k_err/k)**2+(2*R_err/R)**2)"
   ]
  },
  {
   "cell_type": "code",
   "execution_count": 211,
   "id": "4f0ad99c",
   "metadata": {},
   "outputs": [],
   "source": [
    "V_mu = 828\n",
    "V_std = 2.0\n",
    "I_mu = 1.4\n",
    "I_std = 0.1\n",
    "R = 2.92*10**(-2)\n",
    "R_err = 0.11*10**(-2)\n",
    "\n",
    "N_sample = 1000"
   ]
  },
  {
   "cell_type": "code",
   "execution_count": 212,
   "id": "64cee182",
   "metadata": {},
   "outputs": [
    {
     "data": {
      "text/plain": [
       "1761635410403.6062"
      ]
     },
     "execution_count": 212,
     "metadata": {},
     "output_type": "execute_result"
    }
   ],
   "source": [
    "compute_qm(V_mu,I_mu)"
   ]
  },
  {
   "cell_type": "code",
   "execution_count": 213,
   "id": "df13af0a",
   "metadata": {},
   "outputs": [],
   "source": [
    "#e = np.random.uniform(0,140,size=N_sample)\n",
    "e = np.zeros(N_sample)\n",
    "V = np.random.normal(V_mu,scale=V_std,size=N_sample)\n",
    "I = np.random.normal(I_mu,scale=I_std,size=N_sample)"
   ]
  },
  {
   "cell_type": "code",
   "execution_count": 214,
   "id": "df0b0af5",
   "metadata": {},
   "outputs": [
    {
     "data": {
      "image/png": "[encoded data removed]",
      "text/plain": [
       "<Figure size 432x288 with 1 Axes>"
      ]
     },
     "metadata": {
      "needs_background": "light"
     },
     "output_type": "display_data"
    },
    {
     "data": {
      "image/png": "[encoded data removed]",
      "text/plain": [
       "<Figure size 432x288 with 1 Axes>"
      ]
     },
     "metadata": {
      "needs_background": "light"
     },
     "output_type": "display_data"
    },
    {
     "data": {
      "image/png": "[encoded data removed]",
      "text/plain": [
       "<Figure size 432x288 with 1 Axes>"
      ]
     },
     "metadata": {
      "needs_background": "light"
     },
     "output_type": "display_data"
    }
   ],
   "source": [
    "plt.hist(V)\n",
    "plt.show()\n",
    "plt.hist(I)\n",
    "plt.show()\n",
    "ratio = compute_qm(V,I)\n",
    "plt.hist(ratio)\n",
    "plt.show()"
   ]
  },
  {
   "cell_type": "code",
   "execution_count": 215,
   "id": "65e5d14d",
   "metadata": {},
   "outputs": [
    {
     "name": "stdout",
     "output_type": "stream",
     "text": [
      "828.1459493941675 1.4024638412226578 1783811098758.763\n"
     ]
    }
   ],
   "source": [
    "print(np.mean(V),np.mean(I),np.mean(ratio))"
   ]
  },
  {
   "cell_type": "code",
   "execution_count": 216,
   "id": "97270c40",
   "metadata": {},
   "outputs": [
    {
     "data": {
      "text/plain": [
       "1755760612221.2297"
      ]
     },
     "execution_count": 216,
     "metadata": {},
     "output_type": "execute_result"
    }
   ],
   "source": [
    "compute_qm(np.mean(V),np.mean(I))"
   ]
  },
  {
   "cell_type": "code",
   "execution_count": 217,
   "id": "5bfdba4b",
   "metadata": {},
   "outputs": [
    {
     "data": {
      "text/plain": [
       "3.6773970173782833"
      ]
     },
     "execution_count": 217,
     "metadata": {},
     "output_type": "execute_result"
    }
   ],
   "source": [
    "compute_qm(np.mean(V),np.mean(I))*rel_error(V_mu,V_std,I_mu,I_std,R,R_err)/10**(11)"
   ]
  },
  {
   "cell_type": "code",
   "execution_count": 218,
   "id": "8365c2fa",
   "metadata": {},
   "outputs": [],
   "source": [
    "import csv\n",
    "\n",
    "# open the file in the write mode\n",
    "f = open('I.csv', 'w')\n",
    "# create the csv writer\n",
    "writer = csv.writer(f)\n",
    "# write a row to the csv file\n",
    "for i in range(len(I)):\n",
    "    writer.writerow([float(I[i])])\n",
    "# close the file\n",
    "f.close()\n",
    "\n",
    "# open the file in the write mode\n",
    "f = open('V.csv', 'w')\n",
    "# create the csv writer\n",
    "writer = csv.writer(f)\n",
    "# write a row to the csv file\n",
    "for i in range(len(V)):\n",
    "    writer.writerow([float(V[i])])\n",
    "# close the file\n",
    "f.close()"
   ]
  }
 ],
 "metadata": {
  "kernelspec": {
   "display_name": "Python 3 (ipykernel)",
   "language": "python",
   "name": "python3"
  },
  "language_info": {
   "codemirror_mode": {
    "name": "ipython",
    "version": 3
   },
   "file_extension": ".py",
   "mimetype": "text/x-python",
   "name": "python",
   "nbconvert_exporter": "python",
   "pygments_lexer": "ipython3",
   "version": "3.8.12"
  }
 },
 "nbformat": 4,
 "nbformat_minor": 5
}
