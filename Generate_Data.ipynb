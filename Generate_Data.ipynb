{
 "cells": [
  {
   "cell_type": "code",
   "execution_count": 203,
   "id": "4d67d704",
   "metadata": {},
   "outputs": [],
   "source": [
    "import numpy as np\n",
    "import matplotlib.pyplot as plt"
   ]
  },
  {
   "cell_type": "code",
   "execution_count": 234,
   "id": "02ca4614",
   "metadata": {},
   "outputs": [],
   "source": [
    "def compute_qm(V,I,R):\n",
    "    \n",
    "    k = 7.5*10**(-4)\n",
    "    B = k*I\n",
    "    \n",
    "    return (2*V)/(B**2*R**2)"
   ]
  },
  {
   "cell_type": "code",
   "execution_count": 205,
   "id": "009e01ad",
   "metadata": {},
   "outputs": [],
   "source": [
    "def rel_error(V_mu,V_std,I_mu,I_std,R,R_err):\n",
    "    \n",
    "    k = 7.5*10**(-4)\n",
    "    k_err = 0.5*10**(-4)\n",
    "    \n",
    "    return np.sqrt((V_std/V_mu)**2+(2*I_std/I_mu)**2+(2*k_err/k)**2+(2*R_err/R)**2)"
   ]
  },
  {
   "cell_type": "code",
   "execution_count": 228,
   "id": "5826f12e",
   "metadata": {},
   "outputs": [],
   "source": [
    "V_mu = 82.8\n",
    "V_std = 2.0\n",
    "I_mu = 1.4\n",
    "I_std = 0.1\n",
    "R_mu = 2.92*10**(-2)\n",
    "R_std = 0.11*10**(-2)\n",
    "\n",
    "N_sample = 1000"
   ]
  },
  {
   "cell_type": "code",
   "execution_count": 229,
   "id": "d3302ad1",
   "metadata": {},
   "outputs": [
    {
     "data": {
      "text/plain": [
       "176163541040.36063"
      ]
     },
     "execution_count": 229,
     "metadata": {},
     "output_type": "execute_result"
    }
   ],
   "source": [
    "compute_qm(V_mu,I_mu,R_mu)"
   ]
  },
  {
   "cell_type": "code",
   "execution_count": 230,
   "id": "b2bfe3c3",
   "metadata": {},
   "outputs": [],
   "source": [
    "#e = np.random.uniform(0,140,size=N_sample)\n",
    "e = np.zeros(N_sample)\n",
    "V = np.random.normal(V_mu,scale=V_std,size=N_sample)\n",
    "I = np.random.normal(I_mu,scale=I_std,size=N_sample)\n",
    "R = np.random.normal(R_mu,scale=R_std,size=N_sample)"
   ]
  },
  {
   "cell_type": "code",
   "execution_count": 231,
   "id": "c47fb709",
   "metadata": {},
   "outputs": [
    {
     "data": {
      "image/png": "[encoded data removed]",
      "text/plain": [
       "<Figure size 432x288 with 1 Axes>"
      ]
     },
     "metadata": {
      "needs_background": "light"
     },
     "output_type": "display_data"
    },
    {
     "data": {
      "image/png": "[encoded data removed]",
      "text/plain": [
       "<Figure size 432x288 with 1 Axes>"
      ]
     },
     "metadata": {
      "needs_background": "light"
     },
     "output_type": "display_data"
    },
    {
     "data": {
      "image/png": "[encoded data removed]",
      "text/plain": [
       "<Figure size 432x288 with 1 Axes>"
      ]
     },
     "metadata": {
      "needs_background": "light"
     },
     "output_type": "display_data"
    }
   ],
   "source": [
    "plt.hist(V)\n",
    "plt.show()\n",
    "plt.hist(I)\n",
    "plt.show()\n",
    "ratio = compute_qm(V,I,R)\n",
    "plt.hist(ratio)\n",
    "plt.show()"
   ]
  },
  {
   "cell_type": "code",
   "execution_count": 232,
   "id": "551b7fc3",
   "metadata": {},
   "outputs": [
    {
     "name": "stdout",
     "output_type": "stream",
     "text": [
      "82.79216811867168 1.3957838097347406 180515340940.69003\n"
     ]
    }
   ],
   "source": [
    "print(np.mean(V),np.mean(I),np.mean(ratio))"
   ]
  },
  {
   "cell_type": "code",
   "execution_count": 236,
   "id": "bdbf7c33",
   "metadata": {},
   "outputs": [
    {
     "data": {
      "text/plain": [
       "177105136744.69257"
      ]
     },
     "execution_count": 236,
     "metadata": {},
     "output_type": "execute_result"
    }
   ],
   "source": [
    "compute_qm(np.mean(V),np.mean(I),np.mean(R))"
   ]
  },
  {
   "cell_type": "code",
   "execution_count": 239,
   "id": "69d14aac",
   "metadata": {},
   "outputs": [
    {
     "data": {
      "text/plain": [
       "0.3733764094817966"
      ]
     },
     "execution_count": 239,
     "metadata": {},
     "output_type": "execute_result"
    }
   ],
   "source": [
    "compute_qm(np.mean(V),np.mean(I),np.mean(R))*rel_error(V_mu,V_std,I_mu,I_std,R_mu,R_std)/10**(11)"
   ]
  },
  {
   "cell_type": "code",
   "execution_count": 241,
   "id": "bf2481a1",
   "metadata": {},
   "outputs": [],
   "source": [
    "import csv\n",
    "\n",
    "# open the file in the write mode\n",
    "f = open('I.csv', 'w')\n",
    "# create the csv writer\n",
    "writer = csv.writer(f)\n",
    "# write a row to the csv file\n",
    "for i in range(len(I)):\n",
    "    writer.writerow([float(I[i])])\n",
    "# close the file\n",
    "f.close()\n",
    "\n",
    "# open the file in the write mode\n",
    "f = open('V.csv', 'w')\n",
    "# create the csv writer\n",
    "writer = csv.writer(f)\n",
    "# write a row to the csv file\n",
    "for i in range(len(V)):\n",
    "    writer.writerow([float(V[i])])\n",
    "# close the file\n",
    "f.close()\n",
    "\n",
    "# open the file in the write mode\n",
    "f = open('R.csv', 'w')\n",
    "# create the csv writer\n",
    "writer = csv.writer(f)\n",
    "# write a row to the csv file\n",
    "for i in range(len(R)):\n",
    "    writer.writerow([float(R[i])])\n",
    "# close the file\n",
    "f.close()"
   ]
  },
  {
   "cell_type": "code",
   "execution_count": null,
   "id": "779a6c2c",
   "metadata": {},
   "outputs": [],
   "source": []
  }
 ],
 "metadata": {
  "kernelspec": {
   "display_name": "Python 3 (ipykernel)",
   "language": "python",
   "name": "python3"
  },
  "language_info": {
   "codemirror_mode": {
    "name": "ipython",
    "version": 3
   },
   "file_extension": ".py",
   "mimetype": "text/x-python",
   "name": "python",
   "nbconvert_exporter": "python",
   "pygments_lexer": "ipython3",
   "version": "3.8.12"
  }
 },
 "nbformat": 4,
 "nbformat_minor": 5
}
