{
 "cells": [
  {
   "cell_type": "code",
   "execution_count": 1,
   "id": "4d67d704",
   "metadata": {},
   "outputs": [],
   "source": [
    "import numpy as np\n",
    "import matplotlib.pyplot as plt\n",
    "import csv"
   ]
  },
  {
   "cell_type": "code",
   "execution_count": 2,
   "id": "02ca4614",
   "metadata": {},
   "outputs": [],
   "source": [
    "def compute_qm(V,I,R):\n",
    "    \n",
    "    # Function to compute the charge to mass ratio\n",
    "    \n",
    "    k = 7.5*10**(-4)\n",
    "    B = k*I\n",
    "    \n",
    "    return (2*V)/(B**2*R**2)"
   ]
  },
  {
   "cell_type": "code",
   "execution_count": 3,
   "id": "009e01ad",
   "metadata": {},
   "outputs": [],
   "source": [
    "def rel_error(V_mu,V_std,I_mu,I_std,R,R_err):\n",
    "    \n",
    "    # Function to compute the expected error on the ratio.\n",
    "    \n",
    "    k = 7.5*10**(-4)\n",
    "    k_err = 0.5*10**(-4)\n",
    "    \n",
    "    return np.sqrt((V_std/V_mu)**2+(2*I_std/I_mu)**2+(2*k_err/k)**2+(2*R_err/R)**2)"
   ]
  },
  {
   "cell_type": "code",
   "execution_count": 4,
   "id": "5826f12e",
   "metadata": {},
   "outputs": [],
   "source": [
    "# Averages X_mu and standard deviations X_std on the experimental measurements X.\n",
    "V_mu = 82.8\n",
    "V_std = 2.0\n",
    "I_mu = 1.4\n",
    "I_std = 0.1\n",
    "R_mu = 2.92*10**(-2)\n",
    "R_std = 0.11*10**(-2)\n",
    "\n",
    "# Number of samples taken at a given value.\n",
    "N_sample = 1000"
   ]
  },
  {
   "cell_type": "code",
   "execution_count": 5,
   "id": "d3302ad1",
   "metadata": {},
   "outputs": [
    {
     "data": {
      "text/plain": [
       "176163541040.36063"
      ]
     },
     "execution_count": 5,
     "metadata": {},
     "output_type": "execute_result"
    }
   ],
   "source": [
    "# Computed ratio based on average experimental measurements.\n",
    "compute_qm(V_mu,I_mu,R_mu)"
   ]
  },
  {
   "cell_type": "code",
   "execution_count": 6,
   "id": "b2bfe3c3",
   "metadata": {},
   "outputs": [],
   "source": [
    "#Generation of the Gaussian distribution associated with each physical quantity measured.\n",
    "V = np.random.normal(V_mu,scale=V_std,size=N_sample)\n",
    "I = np.random.normal(I_mu,scale=I_std,size=N_sample)\n",
    "R = np.random.normal(R_mu,scale=R_std,size=N_sample)\n",
    "\n",
    "#Compute the \"on-the-fly\" values of the ratio.\n",
    "ratio = compute_qm(V,I,R)"
   ]
  },
  {
   "cell_type": "code",
   "execution_count": 7,
   "id": "c47fb709",
   "metadata": {},
   "outputs": [
    {
     "data": {
      "image/png": "[encoded data removed]",
      "text/plain": [
       "<Figure size 432x288 with 1 Axes>"
      ]
     },
     "metadata": {
      "needs_background": "light"
     },
     "output_type": "display_data"
    },
    {
     "data": {
      "image/png": "[encoded data removed]",
      "text/plain": [
       "<Figure size 432x288 with 1 Axes>"
      ]
     },
     "metadata": {
      "needs_background": "light"
     },
     "output_type": "display_data"
    },
    {
     "data": {
      "image/png": "[encoded data removed]",
      "text/plain": [
       "<Figure size 432x288 with 1 Axes>"
      ]
     },
     "metadata": {
      "needs_background": "light"
     },
     "output_type": "display_data"
    },
    {
     "data": {
      "image/png": "[encoded data removed]",
      "text/plain": [
       "<Figure size 432x288 with 1 Axes>"
      ]
     },
     "metadata": {
      "needs_background": "light"
     },
     "output_type": "display_data"
    }
   ],
   "source": [
    "#Plot the histograms of each quantity\n",
    "\n",
    "#Voltage measurements\n",
    "plt.hist(V,bins=50)\n",
    "plt.xlabel(\"$V$ (V)\",size=15)\n",
    "plt.ylabel(\"Count\",size=15)\n",
    "plt.show()\n",
    "\n",
    "#Current measurements\n",
    "plt.hist(I,bins=50)\n",
    "plt.xlabel(\"$I$ (A)\",size=15)\n",
    "plt.ylabel(\"Count\",size=15)\n",
    "plt.show()\n",
    "\n",
    "#Radius measurements\n",
    "plt.hist(R,bins=50)\n",
    "plt.xlabel(\"$R$ (m)\",size=15)\n",
    "plt.ylabel(\"Count\",size=15)\n",
    "plt.show()\n",
    "\n",
    "#Ratio measurement distribution\n",
    "plt.hist(ratio,bins=50)\n",
    "plt.xlabel(\"$ \\\\frac{q}{m}$ (C/kg)\",size=15)\n",
    "plt.ylabel(\"Count\",size=15)\n",
    "plt.show()"
   ]
  },
  {
   "cell_type": "code",
   "execution_count": 8,
   "id": "551b7fc3",
   "metadata": {},
   "outputs": [
    {
     "name": "stdout",
     "output_type": "stream",
     "text": [
      "177225292317.5858\n",
      "173710750346.31833\n"
     ]
    }
   ],
   "source": [
    "# Mean value of q/m if computed \"on-the-fly\"\n",
    "print(np.mean(ratio))\n",
    "# Mean value obtained from the mean values of the measured quantities\n",
    "print(compute_qm(np.mean(V),np.mean(I),np.mean(R)))"
   ]
  },
  {
   "cell_type": "code",
   "execution_count": 9,
   "id": "69d14aac",
   "metadata": {},
   "outputs": [
    {
     "name": "stdout",
     "output_type": "stream",
     "text": [
      "0.3027400758237195\n",
      "0.36622029967541747\n"
     ]
    }
   ],
   "source": [
    "# Standard deviation value of q/m if computed \"on-the-fly\"\n",
    "print(np.std(ratio)/10**(11))\n",
    "# Computed estimate of the uncertainty on the measured value of q/m.\n",
    "print(compute_qm(np.mean(V),np.mean(I),np.mean(R))*rel_error(V_mu,V_std,I_mu,I_std,R_mu,R_std)/10**(11))"
   ]
  },
  {
   "cell_type": "code",
   "execution_count": 10,
   "id": "bf2481a1",
   "metadata": {},
   "outputs": [],
   "source": [
    "# Write the results of the measured distributions to csv files.\n",
    "\n",
    "f = open('Inputs/I.csv', 'w')\n",
    "writer = csv.writer(f)\n",
    "for i in range(len(I)):\n",
    "    writer.writerow([float(I[i])])\n",
    "f.close()\n",
    "\n",
    "f = open('Inputs/V.csv', 'w')\n",
    "writer = csv.writer(f)\n",
    "for i in range(len(V)):\n",
    "    writer.writerow([float(V[i])])\n",
    "f.close()\n",
    "\n",
    "f = open('Inputs/R.csv', 'w')\n",
    "writer = csv.writer(f)\n",
    "for i in range(len(R)):\n",
    "    writer.writerow([float(R[i])])\n",
    "f.close()"
   ]
  }
 ],
 "metadata": {
  "kernelspec": {
   "display_name": "Python 3",
   "language": "python",
   "name": "python3"
  },
  "language_info": {
   "codemirror_mode": {
    "name": "ipython",
    "version": 3
   },
   "file_extension": ".py",
   "mimetype": "text/x-python",
   "name": "python",
   "nbconvert_exporter": "python",
   "pygments_lexer": "ipython3",
   "version": "3.8.12"
  }
 },
 "nbformat": 4,
 "nbformat_minor": 5
}
